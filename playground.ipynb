{
 "cells": [
  {
   "cell_type": "markdown",
   "id": "08c44579-8edb-4baa-90a3-ab9ee69b31cb",
   "metadata": {},
   "source": [
    "# Architecture\n",
    "\n",
    "* /data/poses/{SET}/*.md : one Markdown file per pose, with unique filename/ID. SET = {\"cards\", \"web\"}\n",
    "* /data/poses/{SET}/*.clp : CLIPS rules to build flows. SET = {\"cards\", \"web\"}\n",
    "* /bin/exec-clips : CLI command to execute CLIPS\n",
    "* /bin/exec-rag: CLI command to executre CLIPS\n",
    "* /www/json-rpc: takes json-rpc call & executes correct command in bin\n",
    "* /www/index.html: web interface using jquery.terminal, multiple terminals on a single page\n",
    "* README.md: info about project\n",
    "* playground.ipynb\n",
    "\n",
    "# Notes\n",
    "\n",
    "[\"Clean Jypter Notebooks\"](https://ploomber.io/blog/clean-nbs/)"
   ]
  },
  {
   "cell_type": "markdown",
   "id": "b61e2615-348c-4f21-87cf-0808d6c9589d",
   "metadata": {},
   "source": [
    "# Dataset\n",
    "\n",
    "## Description\n",
    "\n",
    "1) A set of yoga poses made with OCR from 50 cards from a Yoga Deck. The deck was scanned, then OCR'd.\n",
    "2) Initial poses augmented wiht yoga poses crawled from websites like pocketyoga.com and yogajournal.com.\n",
    "\n",
    "Structure:\n",
    "\n",
    "* A single Markdown document with a description for each pose.\n",
    "* A set of transition rules to go from one pose to another.\n",
    "* A set of benefit and counter-indication rules.\n",
    "* A set of flow construction rules.\n",
    "\n",
    "Format:\n",
    "\n",
    "* Markdown for the individual documents.\n",
    "* CLIPS / RDF / OWL for the rules and facts. RDF/OWL more popular. Currently no tools to convert between the formats. CLIPS seems better suited for our use case. Our own DSL?\n",
    "\n",
    "## Sources\n",
    "\n",
    "https://yogajournal.com/poses\n",
    "https://pocketyoga.com/poses\n",
    "https://www.tummee.com/yoga-poses : anti-crawling measures in place\n",
    "https://www.yogapedia.com/yoga-poses\n",
    "\n",
    "## Creation Method\n",
    "\n",
    "* Input: .HEIC picture of each yoga deck card.\n",
    "* Processing: convert to png, grayscale, invert, increase contrast.\n",
    "* OCR: convert to text with VNRecognizeTextRequest from MacOS Vision Framework."
   ]
  },
  {
   "cell_type": "code",
   "execution_count": null,
   "id": "f5808322-37cf-41dd-a136-3f12e2f711dc",
   "metadata": {},
   "outputs": [],
   "source": [
    "#!/usr/bin/python\n",
    "import chromadb, ollama\n",
    "\n",
    "# Setup ChromaDB\n",
    "client = chromadb.PersistentClient(path=\"./data\")\n",
    "\n",
    "stream = ollama.chat(\n",
    "    model='llama3',\n",
    "    messages=[{'role': 'user', 'content': 'Why is the sky blue?'}],\n",
    "    stream=True,\n",
    ")\n",
    "\n",
    "for chunk in stream:\n",
    "  print(chunk['message']['content'], end='', flush=True)"
   ]
  },
  {
   "cell_type": "markdown",
   "id": "8ccf8dfd-baf0-4a91-b74a-b94408023ef0",
   "metadata": {},
   "source": [
    "# Dataset Preparation\n",
    "\n",
    "## OCR With Tesseract\n",
    "\n",
    "We need to install tesseract for OCR, imagemagick for preprocessing and libeif to read the .HEIC files. Our final correction is to pass the text on to GPT and ask it to correct it because Tesseract detects too many diacretics and weird characters. I tried local ollama3 corrections but those were worse."
   ]
  },
  {
   "cell_type": "code",
   "execution_count": null,
   "id": "1420c578-18f8-44e4-8b59-7f3bf0bf0c15",
   "metadata": {},
   "outputs": [],
   "source": [
    "brew install tesseract\n",
    "brew install imagemagick\n",
    "brew install libheif"
   ]
  },
  {
   "cell_type": "code",
   "execution_count": null,
   "id": "5a79c962-40fe-4dad-88e5-3050993037f4",
   "metadata": {},
   "outputs": [],
   "source": [
    "!python data/youtube.py"
   ]
  },
  {
   "cell_type": "code",
   "execution_count": null,
   "id": "fac35bd2-f233-4cd1-ba57-9607cb697c45",
   "metadata": {},
   "outputs": [],
   "source": [
    "!/bin/zsh data/ocr.sh"
   ]
  }
 ],
 "metadata": {
  "kernelspec": {
   "display_name": "Python 3 (ipykernel)",
   "language": "python",
   "name": "python3"
  },
  "language_info": {
   "codemirror_mode": {
    "name": "ipython",
    "version": 3
   },
   "file_extension": ".py",
   "mimetype": "text/x-python",
   "name": "python",
   "nbconvert_exporter": "python",
   "pygments_lexer": "ipython3",
   "version": "3.12.3"
  }
 },
 "nbformat": 4,
 "nbformat_minor": 5
}
