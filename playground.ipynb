{
 "cells": [
  {
   "cell_type": "markdown",
   "id": "b61e2615-348c-4f21-87cf-0808d6c9589d",
   "metadata": {
    "jp-MarkdownHeadingCollapsed": true
   },
   "source": [
    "# Dataset Construction\n",
    "\n",
    "## Description\n",
    "\n",
    "1) A set of yoga poses made with OCR from 50 cards from a Yoga Deck. The deck was scanned, then OCR'd.\n",
    "2) Initial poses augmented wiht yoga poses crawled from websites like pocketyoga.com and yogajournal.com.\n",
    "\n",
    "Structure:\n",
    "\n",
    "* A single Markdown document with a description for each pose.\n",
    "* A set of transition rules to go from one pose to another.\n",
    "* A set of benefit and counter-indication rules.\n",
    "* A set of flow construction rules.\n",
    "\n",
    "Format:\n",
    "\n",
    "* Markdown for the individual documents.\n",
    "* CLIPS / RDF / OWL for the rules and facts. RDF/OWL more popular. Currently no tools to convert between the formats. CLIPS seems better suited for our use case. Our own DSL?\n",
    "\n",
    "## Sources\n",
    "\n",
    "    https://yogajournal.com/poses\n",
    "    https://pocketyoga.com/poses\n",
    "    https://www.tummee.com/yoga-poses : anti-crawling measures in place\n",
    "    https://www.yogapedia.com/yoga-poses\n",
    "\n",
    "## Creation Method\n",
    "\n",
    "* Input: .HEIC picture of each yoga deck card.\n",
    "* Processing: convert to png, grayscale, invert, increase contrast with ImageMagick\n",
    "* OCR: convert to text with VNRecognizeTextRequest from MacOS Vision Framework. Tesseract gave bad results.\n",
    "* LLM Correction: amazingly GPT was able to \"fix\" Tesseract's bad OCR full of diacretics.\n",
    "\n",
    "## Youtube Captions\n",
    "\n",
    "I tried to extract Youtube captions for yoga videos to get some more unstructured data to play with.\n",
    "\n",
    "## Notes\n",
    "\n",
    "[\"Clean Jypter Notebooks\"](https://ploomber.io/blog/clean-nbs/)"
   ]
  }
 ],
 "metadata": {
  "kernelspec": {
   "display_name": "Python 3 (ipykernel)",
   "language": "python",
   "name": "python3"
  },
  "language_info": {
   "codemirror_mode": {
    "name": "ipython",
    "version": 3
   },
   "file_extension": ".py",
   "mimetype": "text/x-python",
   "name": "python",
   "nbconvert_exporter": "python",
   "pygments_lexer": "ipython3",
   "version": "3.12.3"
  }
 },
 "nbformat": 4,
 "nbformat_minor": 5
}
