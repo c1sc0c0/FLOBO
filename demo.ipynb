{
 "cells": [
  {
   "cell_type": "markdown",
   "id": "21cf0599-720e-48b9-a6d8-43e4e177fc11",
   "metadata": {},
   "source": [
    "# Interactive Demo\n",
    "\n",
    "* You can run interactive demos with the available models below. Just run the corresponding cell for each model.\n",
    "* Requirements: For all demos Ollama needs to be running locally on your system, with the llama3 model installed.\n",
    "* Tip: you can only run one model at the same time in this Jupyter notebook. Exit a session with /exit\n",
    "\n",
    "## Naked LLama3\n",
    "\n",
    "* Untrained naked llama3 model running through ollama."
   ]
  },
  {
   "cell_type": "code",
   "execution_count": null,
   "id": "505112dd-2b89-479e-b1f9-fbd0c921967c",
   "metadata": {},
   "outputs": [],
   "source": [
    "%run flobo.py naked"
   ]
  },
  {
   "cell_type": "markdown",
   "id": "f252a483-f548-410b-aa72-cfcad646a77d",
   "metadata": {},
   "source": [
    "## Llama3 + RAG\n",
    "* Untrained LLama3 with a chromadb RAG containing the Yoga poses."
   ]
  },
  {
   "cell_type": "code",
   "execution_count": null,
   "id": "b8a7611c-1528-4b8b-8b66-97c76f253fc3",
   "metadata": {},
   "outputs": [],
   "source": [
    "%run flobo.py rag"
   ]
  },
  {
   "cell_type": "markdown",
   "id": "2c7f0064-18f2-4d88-8488-7067ffd87fa9",
   "metadata": {},
   "source": [
    "## Llama3 + DUMP\n",
    "* Untrained LLama3 with all of the yoga poses dumped into the context."
   ]
  },
  {
   "cell_type": "code",
   "execution_count": null,
   "id": "eb1c59b7-7968-41ea-bb60-2944528cd96c",
   "metadata": {},
   "outputs": [],
   "source": [
    "%run flobo.py dump"
   ]
  },
  {
   "cell_type": "markdown",
   "id": "d4ffe13e-5388-493d-a90f-2d323f80bb28",
   "metadata": {},
   "source": [
    "## Llama3 + Symbol\n",
    "\n",
    "* Untrained LLama3 with CLIPS running inference."
   ]
  },
  {
   "cell_type": "code",
   "execution_count": null,
   "id": "3603aca0-b4b3-40cf-aab1-53938608a076",
   "metadata": {},
   "outputs": [],
   "source": [
    "%run flobo.py symbol"
   ]
  }
 ],
 "metadata": {
  "kernelspec": {
   "display_name": "Python 3 (ipykernel)",
   "language": "python",
   "name": "python3"
  },
  "language_info": {
   "codemirror_mode": {
    "name": "ipython",
    "version": 3
   },
   "file_extension": ".py",
   "mimetype": "text/x-python",
   "name": "python",
   "nbconvert_exporter": "python",
   "pygments_lexer": "ipython3",
   "version": "3.12.3"
  }
 },
 "nbformat": 4,
 "nbformat_minor": 5
}
