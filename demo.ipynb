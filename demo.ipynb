{
 "cells": [
  {
   "cell_type": "markdown",
   "id": "21cf0599-720e-48b9-a6d8-43e4e177fc11",
   "metadata": {},
   "source": [
    "# Interactive Demo\n",
    "\n",
    "* You can run interactive demos with the available models below. Just run the corresponding cell for each model.\n",
    "* Requirements: For all demos Ollama needs to be running locally on your system, with the llama3 model installed.\n",
    "* Tip: you can only run one model at the same time in this Jupyter notebook. Exit a session with /exit\n",
    "\n",
    "## Naked LLama3\n",
    "\n",
    "* Untrained naked llama3 model running through ollama."
   ]
  },
  {
   "cell_type": "code",
   "execution_count": null,
   "id": "505112dd-2b89-479e-b1f9-fbd0c921967c",
   "metadata": {},
   "outputs": [
    {
     "name": "stdout",
     "output_type": "stream",
     "text": [
      "Flobo running naked model. Type '/exit' to quit.\n"
     ]
    },
    {
     "name": "stdin",
     "output_type": "stream",
     "text": [
      ">>>  What is life?\n"
     ]
    },
    {
     "name": "stdout",
     "output_type": "stream",
     "text": [
      "The age-old question: What is life?\n",
      "\n",
      "Defining life is a complex and multifaceted task, as it encompasses various aspects of existence. Here's a comprehensive attempt to capture the essence of life:\n",
      "\n",
      "**Biological perspective:** Life can be defined as the condition or quality that distinguishes living organisms from non-living entities. It is characterized by the presence of certain fundamental biological processes, such as:\n",
      "\n",
      "1. Organization: The ability to maintain structural and functional organization, like cells, tissues, and organs.\n",
      "2. Metabolism: The ability to obtain energy and nutrients from the environment, convert them into usable forms, and use them for growth, maintenance, and reproduction.\n",
      "3. Homeostasis: The ability to regulate internal conditions, such as temperature, pH, and concentration of essential molecules, to maintain a stable environment.\n",
      "4. Growth and Development: The ability to grow, develop, and differentiate into specialized cell types.\n",
      "5. Reproduction: The ability to produce offspring or replicate genetic material.\n",
      "\n",
      "**Philosophical perspective:** Life can also be viewed from a philosophical standpoint, which delves deeper into the nature of existence, purpose, and meaning. Some possible definitions include:\n",
      "\n",
      "1. Experience: Life is the totality of our experiences, emotions, thoughts, and perceptions that shape our understanding of the world.\n",
      "2. Purpose: Life has inherent purpose or meaning, which can be discovered through self-reflection, relationships, or pursuit of goals.\n",
      "3. Consciousness: Life is characterized by consciousness, the awareness of one's existence, surroundings, and inner states.\n",
      "\n",
      "**Psychological perspective:** From a psychological viewpoint, life can be seen as:\n",
      "\n",
      "1. A journey: Life is a continuous process of growth, learning, and adaptation, with its own challenges, triumphs, and setbacks.\n",
      "2. Emotional experience: Life is the sum of our emotional experiences, including joy, suffering, love, and loss.\n",
      "\n",
      "**Societal perspective:** In a broader sense, life can be viewed as:\n",
      "\n",
      "1. A shared human experience: Life is what connects us all, despite individual differences, cultures, and backgrounds.\n",
      "2. A social construct: Life is shaped by the relationships we have with others, our roles within societies, and the cultural norms that govern our behavior.\n",
      "\n",
      "**Conclusion:** While life is difficult to define precisely, it encompasses various aspects of existence, including biological processes, philosophical perspectives, psychological experiences, and societal constructs. Ultimately, the meaning and purpose of life are subjective and can be explored through personal reflection, relationships, and experiences.\n"
     ]
    }
   ],
   "source": [
    "%run flobo.py naked"
   ]
  },
  {
   "cell_type": "markdown",
   "id": "f252a483-f548-410b-aa72-cfcad646a77d",
   "metadata": {},
   "source": [
    "## Llama3 + RAG\n",
    "* Untrained LLama3 with a chromadb RAG containing the Yoga poses."
   ]
  },
  {
   "cell_type": "code",
   "execution_count": null,
   "id": "eb1c59b7-7968-41ea-bb60-2944528cd96c",
   "metadata": {},
   "outputs": [],
   "source": [
    "%run flobo.py rag"
   ]
  },
  {
   "cell_type": "markdown",
   "id": "d4ffe13e-5388-493d-a90f-2d323f80bb28",
   "metadata": {},
   "source": [
    "## Llama3 + Symbol\n",
    "\n",
    "* Untrained LLama3 with CLIPS running inference."
   ]
  },
  {
   "cell_type": "code",
   "execution_count": null,
   "id": "3603aca0-b4b3-40cf-aab1-53938608a076",
   "metadata": {},
   "outputs": [],
   "source": [
    "%run flobo.py symbol"
   ]
  }
 ],
 "metadata": {
  "kernelspec": {
   "display_name": "Python 3 (ipykernel)",
   "language": "python",
   "name": "python3"
  },
  "language_info": {
   "codemirror_mode": {
    "name": "ipython",
    "version": 3
   },
   "file_extension": ".py",
   "mimetype": "text/x-python",
   "name": "python",
   "nbconvert_exporter": "python",
   "pygments_lexer": "ipython3",
   "version": "3.12.3"
  }
 },
 "nbformat": 4,
 "nbformat_minor": 5
}
